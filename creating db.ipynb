{
 "cells": [
  {
   "cell_type": "code",
   "execution_count": 1,
   "metadata": {},
   "outputs": [],
   "source": [
    "import csv\n",
    "from datetime import datetime\n",
    "import io\n",
    "import psycopg2\n",
    "from urllib import request"
   ]
  },
  {
   "cell_type": "code",
   "execution_count": 2,
   "metadata": {},
   "outputs": [],
   "source": [
    "conn = psycopg2.connect(dbname='postgres', user='postgres')\n",
    "cur = conn.cursor()\n",
    "# Autocommit instead of commiting every transaction.\n",
    "conn.autocommit = True"
   ]
  },
  {
   "cell_type": "code",
   "execution_count": 3,
   "metadata": {},
   "outputs": [],
   "source": [
    "# Create database and users.\n",
    "cur.execute('CREATE DATABASE ihw')\n",
    "cur.execute(\"CREATE USER production WITH PASSWORD 'abc123'\")\n",
    "cur.execute(\"CREATE USER analyst WITH PASSWORD 'def456'\")"
   ]
  },
  {
   "cell_type": "code",
   "execution_count": 4,
   "metadata": {},
   "outputs": [],
   "source": [
    "# Reconnect to ihw database.\n",
    "conn = psycopg2.connect(dbname='ihw', user='postgres')\n",
    "conn.autocommit = True\n",
    "cur = conn.cursor()"
   ]
  },
  {
   "cell_type": "code",
   "execution_count": 5,
   "metadata": {},
   "outputs": [],
   "source": [
    "# Create the table.\n",
    "cur.execute(\n",
    "    \"\"\"\n",
    "    CREATE TABLE hurricanes (\n",
    "        fid INTEGER PRIMARY KEY,\n",
    "        recorded_at TIMESTAMP,\n",
    "        btid INTEGER,\n",
    "        name VARCHAR(10),\n",
    "        lat DECIMAL(4, 1),\n",
    "        long DECIMAL(4, 1),\n",
    "        wind_kts SMALLINT,\n",
    "        pressure INTEGER,\n",
    "        category VARCHAR(2),\n",
    "        basin VARCHAR(16),\n",
    "        shape_length DECIMAL(8, 6)\n",
    "    )\n",
    "    \"\"\"\n",
    ")"
   ]
  },
  {
   "cell_type": "code",
   "execution_count": 6,
   "metadata": {},
   "outputs": [],
   "source": [
    "# Manage privileges.\n",
    "cur.execute(\"REVOKE ALL ON hurricanes FROM production\")\n",
    "cur.execute(\"REVOKE ALL ON hurricanes FROM analyst\")\n",
    "cur.execute(\"GRANT SELECT, INSERT, UPDATE ON hurricanes TO production\")\n",
    "cur.execute(\"GRANT SELECT ON hurricanes TO analyst\")\n",
    "conn.close()\n"
   ]
  },
  {
   "cell_type": "code",
   "execution_count": 7,
   "metadata": {},
   "outputs": [],
   "source": [
    "# Reconnect with production user.\n",
    "conn = psycopg2.connect(dbname='ihw', user='production', password='abc123')\n",
    "cur = conn.cursor()\n",
    "conn.autocommit = True"
   ]
  },
  {
   "cell_type": "code",
   "execution_count": 9,
   "metadata": {},
   "outputs": [],
   "source": [
    "# Insert the data.\n",
    "response = request.urlopen('https://dq-content.s3.amazonaws.com/251/storm_data.csv')\n",
    "reader = csv.reader(io.TextIOWrapper(response))\n",
    "# Skip the header.\n",
    "_ = next(reader)\n",
    "rows = []\n",
    "for line in reader:\n",
    "    recorded_at = datetime(int(line[1]), int(line[2]), int(line[3]), hour=int(line[4][:2]), minute=int(line[4][2:-1]))\n",
    "\n",
    "    new_line = [line[0], recorded_at] + line[5:]\n",
    "    rows.append(\n",
    "        cur.mogrify(\n",
    "            \"(%s, %s, %s, %s, %s, %s, %s, %s, %s, %s, %s)\",\n",
    "            new_line\n",
    "        ).decode('utf-8')\n",
    "    )\n",
    "cur.execute('INSERT INTO hurricanes VALUES ' + \",\".join(rows))\n",
    "\n"
   ]
  }
 ],
 "metadata": {
  "kernelspec": {
   "display_name": "Python 3",
   "language": "python",
   "name": "python3"
  },
  "language_info": {
   "codemirror_mode": {
    "name": "ipython",
    "version": 3
   },
   "file_extension": ".py",
   "mimetype": "text/x-python",
   "name": "python",
   "nbconvert_exporter": "python",
   "pygments_lexer": "ipython3",
   "version": "3.8.3"
  }
 },
 "nbformat": 4,
 "nbformat_minor": 2
}
